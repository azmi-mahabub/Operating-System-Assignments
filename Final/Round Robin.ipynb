{
  "nbformat": 4,
  "nbformat_minor": 0,
  "metadata": {
    "colab": {
      "provenance": []
    },
    "kernelspec": {
      "name": "python3",
      "display_name": "Python 3"
    },
    "language_info": {
      "name": "python"
    }
  },
  "cells": [
    {
      "cell_type": "code",
      "source": [
        "processes = [\n",
        "    {\"pid\": 0, \"arrival\": 0, \"burst\": 7},\n",
        "    {\"pid\": 1, \"arrival\": 1, \"burst\": 4},\n",
        "    {\"pid\": 3, \"arrival\": 2, \"burst\": 15},\n",
        "    {\"pid\": 4, \"arrival\": 3, \"burst\": 11},\n",
        "    {\"pid\": 5, \"arrival\": 4, \"burst\": 20},\n",
        "    {\"pid\": 6, \"arrival\": 4, \"burst\": 9}\n",
        "]\n",
        "\n",
        "time_quantum = 4\n",
        "\n",
        "for p in processes:\n",
        "    p[\"remaining\"] = p[\"burst\"]\n",
        "    p[\"ct\"] = 0\n",
        "\n",
        "processes.sort(key=lambda x: x[\"arrival\"])\n",
        "\n",
        "ready_q = []\n",
        "time = 0\n",
        "completed = 0\n",
        "n = len(processes)\n",
        "\n",
        "unarrived = processes.copy()\n",
        "\n",
        "while completed < n:\n",
        "    i = 0\n",
        "    while i < len(unarrived):\n",
        "        if unarrived[i][\"arrival\"] <= time:\n",
        "            ready_q.append(unarrived.pop(i))\n",
        "        else:\n",
        "            i += 1\n",
        "\n",
        "    if not ready_q:\n",
        "        time += 1\n",
        "        continue\n",
        "\n",
        "    current = ready_q.pop(0)\n",
        "\n",
        "\n",
        "    exec_time = min(time_quantum, current[\"remaining\"])\n",
        "    time += exec_time\n",
        "    current[\"remaining\"] -= exec_time\n",
        "\n",
        "\n",
        "    i = 0\n",
        "    while i < len(unarrived):\n",
        "        if unarrived[i][\"arrival\"] <= time:\n",
        "            ready_q.append(unarrived.pop(i))\n",
        "        else:\n",
        "            i += 1\n",
        "\n",
        "    if current[\"remaining\"] == 0:\n",
        "        current[\"ct\"] = time\n",
        "        completed += 1\n",
        "    else:\n",
        "        ready_q.append(current)\n",
        "sorted(processes, key=lambda x: x[\"pid\"])\n",
        "print(\"PID | AT | BT | CT | TAT | WT\")\n",
        "for p in processes:\n",
        "    tat = p[\"ct\"] - p[\"arrival\"]\n",
        "    wt = tat - p[\"burst\"]\n",
        "    print(f\"{p['pid']:>3} | {p['arrival']:>2} | {p['burst']:>2} | {p['ct']:>2} | {tat:>3} | {wt:>2}\")\n"
      ],
      "metadata": {
        "colab": {
          "base_uri": "https://localhost:8080/"
        },
        "id": "ceSuDgqYXHYn",
        "outputId": "f155087c-81ee-4091-c97b-fbae354d1506"
      },
      "execution_count": null,
      "outputs": [
        {
          "output_type": "stream",
          "name": "stdout",
          "text": [
            "PID | AT | BT | CT | TAT | WT\n",
            "  0 |  0 |  7 | 27 |  27 | 20\n",
            "  1 |  1 |  4 |  8 |   7 |  3\n",
            "  3 |  2 | 15 | 58 |  56 | 41\n",
            "  4 |  3 | 11 | 50 |  47 | 36\n",
            "  5 |  4 | 20 | 66 |  62 | 42\n",
            "  6 |  4 |  9 | 55 |  51 | 42\n"
          ]
        }
      ]
    }
  ]
}